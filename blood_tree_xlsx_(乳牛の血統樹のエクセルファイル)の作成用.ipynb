{
  "nbformat": 4,
  "nbformat_minor": 0,
  "metadata": {
    "colab": {
      "provenance": [],
      "collapsed_sections": [],
      "include_colab_link": true
    },
    "kernelspec": {
      "name": "python3",
      "display_name": "Python 3"
    },
    "language_info": {
      "name": "python"
    }
  },
  "cells": [
    {
      "cell_type": "markdown",
      "metadata": {
        "id": "view-in-github",
        "colab_type": "text"
      },
      "source": [
        "<a href=\"https://colab.research.google.com/github/daisuke-8080/blood_tree.xlsx_maker/blob/main/blood_tree_xlsx_(%E4%B9%B3%E7%89%9B%E3%81%AE%E8%A1%80%E7%B5%B1%E6%A8%B9%E3%81%AE%E3%82%A8%E3%82%AF%E3%82%BB%E3%83%AB%E3%83%95%E3%82%A1%E3%82%A4%E3%83%AB)%E3%81%AE%E4%BD%9C%E6%88%90%E7%94%A8.ipynb\" target=\"_parent\"><img src=\"https://colab.research.google.com/assets/colab-badge.svg\" alt=\"Open In Colab\"/></a>"
      ]
    },
    {
      "cell_type": "markdown",
      "source": [
        "### ***下のボックスを実行した後、ランタイムを再起動してください***"
      ],
      "metadata": {
        "id": "yiM87Lutho65"
      }
    },
    {
      "cell_type": "code",
      "source": [
        "!pip install --upgrade xlrd"
      ],
      "metadata": {
        "colab": {
          "base_uri": "https://localhost:8080/",
          "height": 298
        },
        "id": "2XU5n4vnHrEV",
        "outputId": "e5429a42-164f-4282-e081-c84bfadc60ee"
      },
      "execution_count": null,
      "outputs": [
        {
          "output_type": "stream",
          "name": "stdout",
          "text": [
            "Looking in indexes: https://pypi.org/simple, https://us-python.pkg.dev/colab-wheels/public/simple/\n",
            "Requirement already satisfied: xlrd in /usr/local/lib/python3.7/dist-packages (1.1.0)\n",
            "Collecting xlrd\n",
            "  Downloading xlrd-2.0.1-py2.py3-none-any.whl (96 kB)\n",
            "\u001b[K     |████████████████████████████████| 96 kB 6.0 MB/s \n",
            "\u001b[?25hInstalling collected packages: xlrd\n",
            "  Attempting uninstall: xlrd\n",
            "    Found existing installation: xlrd 1.1.0\n",
            "    Uninstalling xlrd-1.1.0:\n",
            "      Successfully uninstalled xlrd-1.1.0\n",
            "Successfully installed xlrd-2.0.1\n"
          ]
        },
        {
          "output_type": "display_data",
          "data": {
            "application/vnd.colab-display-data+json": {
              "pip_warning": {
                "packages": [
                  "xlrd"
                ]
              }
            }
          },
          "metadata": {}
        }
      ]
    },
    {
      "cell_type": "markdown",
      "source": [
        "### **下のボックスの最初の緑の文字の指示に従ってから実行ボタンを押してください。**\n",
        "### **そのあとはすぐにcode_to_excel関数やall_to_excel関数を実行できるように変更しました。**"
      ],
      "metadata": {
        "id": "QCCAJuediF5W"
      }
    },
    {
      "cell_type": "code",
      "source": [
        "from google.colab import drive\n",
        "drive.mount('/content/drive')\n",
        "\n",
        "import pandas as pd\n",
        "import numpy as np\n",
        "import openpyxl\n",
        "\n",
        "df = pd.DataFrame()\n",
        "\n",
        "#下のrange()の中に「xlsxファイルの数」-1 を代入する\n",
        "for i in range(10):\n",
        "  i += 1\n",
        "  df_i = pd.read_excel(f'/content/drive/MyDrive/乳牛データ/{i}.xlsx',sheet_name='Holstein - Results', header=1, index_col=None)\n",
        "  df = pd.concat((df, df_i), axis=0)\n",
        "\n",
        "df.reset_index(drop=True, inplace=True)\n",
        "\n",
        "#「母」列のコードを下１０桁に揃える\n",
        "for i in range(len(df)):\n",
        "  df.loc[i, ['母']] = df.loc[i, ['母']].item()[-10:]\n",
        "  df.loc[i , ['牧場ID (牧場管理番号)']] = df.loc[i , ['牧場ID (牧場管理番号)']].astype(str)\n",
        "  if len(df.loc[i, ['牧場ID (牧場管理番号)']].item()) !=10:\n",
        "    raise\n",
        "\n",
        "#「娘」列を３列追加\n",
        "df[['娘1', '娘2', '娘3']] = np.nan\n",
        "\n",
        "#全ての行における「母」と「牧場ID (牧場管理番号)」をリストとしてmom_codes, idsに格納\n",
        "mom_codes = df[['母']].values.squeeze(1).tolist()\n",
        "ids = df[['牧場ID (牧場管理番号)']].values.squeeze(1).tolist()\n",
        "\n",
        "\n",
        "#ターゲットとなるi行の「ID」が他のj行の「母」と一致していたら、そのターゲットi行の「娘」列にj行のIDを代入する（娘1 - 娘3まで）\n",
        "daughter_num = 1\n",
        "for i, id in enumerate(ids):\n",
        "  for j, mom in enumerate(mom_codes):\n",
        "    if id == mom:\n",
        "      df.loc[ i,[f'娘{daughter_num}']] = df.loc[ j, ['牧場ID (牧場管理番号)']].values\n",
        "      daughter_num += 1\n",
        "  daughter_num = 1\n",
        "\n",
        "\n",
        "#ターゲットとなるi行の「母」が ids (全てのIDのリスト)　に含まれていなかったらそのi行目の id を第一世代 first_generationsとし、\n",
        "#その逆に、含まれていなかったら第二世代以降 offspringであると判定\n",
        "first_generations = []\n",
        "offspring = []\n",
        "\n",
        "for i in range(len(ids)):\n",
        "  id = ids[i]\n",
        "  if df.loc[ i, ['母']].values.item() not in ids:\n",
        "    first_generations.append(id)\n",
        "  else:\n",
        "    offspring.append(id)\n",
        "#重複除去\n",
        "first_generations = list(dict.fromkeys(first_generations))\n",
        "offspring = list(dict.fromkeys(offspring))\n",
        "\n",
        "\n",
        "from operator import itemgetter\n",
        "nan_type_py = type(float('nan'))\n",
        "nan_type_np = type(np.float64(1))\n",
        "main_list = []\n",
        "for i in range(len(df)):\n",
        "  partial_tuple = df.loc[ i, ['牧場ID (牧場管理番号)', '娘1','娘2', '娘3']].values.tolist()\n",
        "  #partial_tuple はリストだがすぐにタプル化される。　ex ['1386116606', '1439421916', 'nan', 'nan']\n",
        "  for daughter_num in range(3):\n",
        "    daughter_num += 1\n",
        "    partial_list = list(itemgetter(0, daughter_num)(partial_tuple))\n",
        "    #partial_listは partial_tuple のターゲットi行の ID とその娘のIDの2要素からなる部分リスト ex ['1386116606', '1439421916']\n",
        "    #もしこのpartial_listの二つ目の要素が nan だった場合、あとあと扱いやすいよう nan のタイプをfloat などから文字列 'nan'　に揃える\n",
        "    if (type(partial_list[1]) == nan_type_py) | (type(partial_list[1]) == nan_type_np):\n",
        "      partial_list[1] = 'nan'\n",
        "    #main_listにすべてのpartial_listを格納していく ex [['1386116606', '1439421916'], ['1386116606', 'nan'], ['1386116606', 'nan'], ・・・・・]\n",
        "    main_list.append(partial_list)\n",
        "\n",
        "#main_list_2 はmain_listの 'nan' による重複を除去したリスト。　各要素は ID とその娘のIDの2要素からなるリスト\n",
        "main_list_2 = []\n",
        "for partial in main_list:\n",
        "  if partial not in main_list_2:\n",
        "    main_list_2.append(partial)\n",
        "\n",
        "\n",
        "#main_list_2の中のリスト同士の連結を行うためのwhileループ\n",
        "loop_flag = True\n",
        "previous_max_length = 2\n",
        "while loop_flag:\n",
        "  \n",
        "  for target in main_list_2:\n",
        "    target_removal_flag = False\n",
        "\n",
        "    for partial in main_list_2:\n",
        "      # ターゲットとなるリスト targetの先頭の要素が、他のリスト partialのしっぽの要素と一致していたらtargetのコピーとpartialを連結する\n",
        "      # 例えば targetが ['1386116606', '1439421916']、 partialが　['1439421916', 'nan']の時、 target_copyは['1386116606', '1439421916'', '1439421916', 'nan']となる\n",
        "      if target[-1] == partial[0]:\n",
        "        target_removal_flag = True\n",
        "        target_copy = target.copy()\n",
        "        target_copy.extend(partial)\n",
        "        new_partial = list(dict.fromkeys(target_copy))\n",
        "        # new_partialはtarget_copyの重複を除去したリスト。この new_partialの長さが最長記録previous_max_lengthを超えたら、new_max_lengthにこの長さを登録\n",
        "        if len(new_partial) > previous_max_length:\n",
        "          new_max_length = len(new_partial)\n",
        "        main_list_2.append(new_partial)\n",
        "        main_list_2.remove(partial)\n",
        "\n",
        "    #元のtarget は除去する\n",
        "    if target_removal_flag:\n",
        "      main_list_2.remove(target)\n",
        "\n",
        "  # main_list_2の中のすべてのリストを target にし終えて、new_max_lengthがprevious_max_lengthと同じだった場合、main_list_2の中のリスト同士をこれ以上連結できないとみなし、whileループを抜ける\n",
        "  if previous_max_length == new_max_length:\n",
        "    loop_flag = False\n",
        "  else:\n",
        "    previous_max_length = new_max_length\n",
        "\n",
        "#同一の第一世代を持つ横ベクトルを並べたDataFrameをもつ辞書（keyはそれらの第一世代のID）\n",
        "df_dict = {}\n",
        "for first_gen_id in first_generations:\n",
        "  # df_xは　df_dictに入れる用のDataFrameの土台\n",
        "  df_x = pd.DataFrame()\n",
        "  # 第一世代のリストfirst_generationsの各要素 first_gen_idに注目する。main_list_2の中のリスト partialの先頭のIDが第一世代のID first_gen_idと一致していたらリスト partial を新たな リスト main_partial_listに格納\n",
        "  main_partial_list = [partial for partial in main_list_2 if partial[0] == first_gen_id]\n",
        "\n",
        "  #main_partial_listの中のリスト partial が2つ以上存在するとき、\n",
        "  if len(main_partial_list) > 1:\n",
        "    for partial in main_partial_list:\n",
        "      #もし partial が first_gen_id と 'nan'の2要素しか持たない場合、df_xに加える作業を無視する\n",
        "      if len(partial) == 2:\n",
        "        continue\n",
        "\n",
        "      #もし partial が first_gen_id と 'nan'以外の要素をもつリストである場合、\n",
        "      else:\n",
        "        for i, id in enumerate(partial):\n",
        "          if id == 'nan':\n",
        "            continue\n",
        "          #partialの 'nan' でない id を、大元のdf からDataFrame（横ベクトル）として 抽出し、コピーする。インデックスを世代番号に変更して df_x に追加\n",
        "          df_row = df[(df['牧場ID (牧場管理番号)']==id)].copy()\n",
        "          index = df_row.index.item()\n",
        "          df_row.rename(index={index : i+1}, inplace=True)\n",
        "          df_x = df_x.append(df_row)\n",
        "        # partial ごとに空行を挟む\n",
        "        df_x = df_x.append(pd.Series(name=''))\n",
        "  \n",
        "  \n",
        "  #main_partial_listの中のリスト partial が一つしか存在しいないとき、\n",
        "  #partialの 'nan' でない id を、大元のdf からDataFrame（横ベクトル）として 抽出し、コピー。インデックスを世代番号に変更して df_x に追加\n",
        "  else:\n",
        "    id = main_partial_list[0][0]\n",
        "    df_row = df[(df['牧場ID (牧場管理番号)']==id)].copy()\n",
        "    index = df_row.index.item()\n",
        "    df_row.rename(index={index : 1}, inplace=True)\n",
        "    df_x = df_x.append(df_row)\n",
        "    df_x = df_x.append(pd.Series(name=''))\n",
        "\n",
        "  # 最終的に key を first_gen_id として、df_x を df_dictに格納\n",
        "  df_dict[first_gen_id] = df_x\n",
        "  \n",
        "\n",
        "# code_confering_dictは、全てのIDを key として持ち、それらの key の「第一世代」のID を value として持つ辞書\n",
        "# この辞書を使って任意のIDの第一世代を参照する\n",
        "code_confering_dict = {}\n",
        "for id in ids:\n",
        "  # ターゲットとなる id がfirst_genterationsに含まれていたらそれをvalueに登録\n",
        "  if id in first_generations:\n",
        "    code_confering_dict[id] = id\n",
        "\n",
        "  # ターゲットとなる id がfirst_genterationsに含まれていない場合、\n",
        "  else:\n",
        "    #そのidの母のidをmom_codeとし、mom_codeがfirst_generationsに含まれるまでmom_codeを更新し続ける。\n",
        "    mom_code = df[(df['牧場ID (牧場管理番号)'] == id)]['母'].values.item()\n",
        "    while mom_code not in first_generations:\n",
        "      mom_code = df[(df['牧場ID (牧場管理番号)'] == mom_code)]['母'].values.item()\n",
        "    #最終的にfirst_generationsに含まれるmom_codeを value として登録する\n",
        "    code_confering_dict[id] = mom_code\n",
        "\n",
        "\n",
        "\n",
        "\n",
        "\n",
        "#選択したIDの第一世代のDataFrameからxlsxファイルを作成する関数\n",
        "def code_to_excel(code):\n",
        "  #特徴量選択\n",
        "  main_specifics = ['検査日', '牧場ID (牧場管理番号)', '品種', '父\\nNAABコード', '母', '生年月日', 'DWP$', 'DWP$ % Rank★90％＝上位10％',  '乳量(ポンド）', '体細胞\\nスコア', '娘牛\\n妊娠率', '生産寿命', 'Zoetis\\u3000\\u3000\\u3000\\u3000乳房炎',  'Zoetis\\u3000\\u3000\\u3000\\u3000跛行\\u3000', 'Zoetis\\u3000\\u3000\\u3000\\u3000子宮炎',  '乳牛健康形質', 'Zoetis\\u3000子牛生存能力', '乳器' ,'高さ', '近交係数']\n",
        "  only_blood = ['検査日', '牧場ID (牧場管理番号)', '品種', '父\\nNAABコード', '母']\n",
        "  code = str(code)\n",
        "  #code_confering_dict を使って選択したIDの第一世代のコードを取得する\n",
        "  code = code_confering_dict[code]\n",
        "  df_target = df_dict[code]\n",
        "\n",
        "  path = '/content/drive/MyDrive/乳牛データ/id.xlsx'\n",
        "  path = path.replace('id', code)\n",
        "\n",
        "  with pd.ExcelWriter(path) as writer:\n",
        "    df_target[only_blood].to_excel(writer, sheet_name='系統樹(小)')\n",
        "    df_target[main_specifics].to_excel(writer, sheet_name='系統樹(メイン)')\n",
        "    df_target.to_excel(writer, sheet_name='系統樹(大)')\n",
        "    \n",
        "  return\n",
        "\n",
        "\n",
        "\n",
        "\n",
        "#全ての第一世代のDataFrameからxlsxファイルを作成する関数\n",
        "def all_to_excel():\n",
        "  #特徴量選択\n",
        "  main_specifics = ['検査日', '牧場ID (牧場管理番号)', '品種', '父\\nNAABコード', '母', '生年月日', 'DWP$', 'DWP$ % Rank★90％＝上位10％',  '乳量(ポンド）', '体細胞\\nスコア', '娘牛\\n妊娠率', '生産寿命', 'Zoetis\\u3000\\u3000\\u3000\\u3000乳房炎',  'Zoetis\\u3000\\u3000\\u3000\\u3000跛行\\u3000', 'Zoetis\\u3000\\u3000\\u3000\\u3000子宮炎',  '乳牛健康形質', 'Zoetis\\u3000子牛生存能力', '乳器' ,'高さ', '近交係数']\n",
        "  only_blood = ['検査日', '牧場ID (牧場管理番号)', '品種', '父\\nNAABコード', '母']\n",
        "  \n",
        "  # xlsxの土台となるDataFrame\n",
        "  df_all = pd.DataFrame()\n",
        "  \n",
        "  #df_dictに格納されている全ての第一世代のdfを連結してdf_allを作成\n",
        "  for code in first_generations:\n",
        "    df_target = df_dict[code]\n",
        "    df_all = pd.concat((df_all, df_target), axis=0)\n",
        "\n",
        "  path = '/content/drive/MyDrive/乳牛データ/all_blood_tree.xlsx'\n",
        "\n",
        "  with pd.ExcelWriter(path) as writer:\n",
        "    df_all[only_blood].to_excel(writer, sheet_name='系統樹(小)')\n",
        "    df_all[main_specifics].to_excel(writer, sheet_name='系統樹(メイン)')\n",
        "    df_all.to_excel(writer, sheet_name='系統樹(大)')\n",
        "    \n",
        "  return\n",
        "\n",
        "\n",
        "\n",
        "\n",
        "#選択したIDの第一世代のDataFrameからxlsxファイルを作成する関数  (重複なしバージョン)\n",
        "def code_to_excel_without_duplication(code):\n",
        "  #特徴量選択\n",
        "  main_specifics = ['検査日', '牧場ID (牧場管理番号)', '品種', '父\\nNAABコード', '母', '生年月日', 'DWP$', 'DWP$ % Rank★90％＝上位10％',  '乳量(ポンド）', '体細胞\\nスコア', '娘牛\\n妊娠率', '生産寿命', 'Zoetis\\u3000\\u3000\\u3000\\u3000乳房炎',  'Zoetis\\u3000\\u3000\\u3000\\u3000跛行\\u3000', 'Zoetis\\u3000\\u3000\\u3000\\u3000子宮炎',  '乳牛健康形質', 'Zoetis\\u3000子牛生存能力', '乳器' ,'高さ', '近交係数']\n",
        "  only_blood = ['検査日', '牧場ID (牧場管理番号)', '品種', '父\\nNAABコード', '母']\n",
        "  code = str(code)\n",
        "  #code_confering_dict を使って選択したIDの第一世代のコードを取得する\n",
        "  code = code_confering_dict[code]\n",
        "  df_target = df_dict[code]\n",
        "      #重複の削除等\n",
        "  target_index = df_target.loc[['']].index\n",
        "  df_target = df_target.drop(target_index).sort_index().drop_duplicates()\n",
        "  df_target = df_target.append(pd.Series(name=''))\n",
        "\n",
        "  path = '/content/drive/MyDrive/乳牛データ/id.xlsx'\n",
        "  path = path.replace('id', code + \"_without_duplication\")\n",
        "\n",
        "  with pd.ExcelWriter(path) as writer:\n",
        "    df_target[only_blood].to_excel(writer, sheet_name='系統樹(小)')\n",
        "    df_target[main_specifics].to_excel(writer, sheet_name='系統樹(メイン)')\n",
        "    df_target.to_excel(writer, sheet_name='系統樹(大)')\n",
        "    \n",
        "  return\n",
        "\n",
        "\n",
        "\n",
        "\n",
        "#全ての第一世代のDataFrameからxlsxファイルを作成する関数　(重複なしバージョン)\n",
        "def all_to_excel_without_duplication():\n",
        "  #特徴量選択\n",
        "  main_specifics = ['検査日', '牧場ID (牧場管理番号)', '品種', '父\\nNAABコード', '母', '生年月日', 'DWP$', 'DWP$ % Rank★90％＝上位10％',  '乳量(ポンド）', '体細胞\\nスコア', '娘牛\\n妊娠率', '生産寿命', 'Zoetis\\u3000\\u3000\\u3000\\u3000乳房炎',  'Zoetis\\u3000\\u3000\\u3000\\u3000跛行\\u3000', 'Zoetis\\u3000\\u3000\\u3000\\u3000子宮炎',  '乳牛健康形質', 'Zoetis\\u3000子牛生存能力', '乳器' ,'高さ', '近交係数']\n",
        "  only_blood = ['検査日', '牧場ID (牧場管理番号)', '品種', '父\\nNAABコード', '母']\n",
        "\n",
        "  # xlsxの土台となるDataFrame\n",
        "  df_all = pd.DataFrame()\n",
        "  \n",
        "  #df_dictに格納されている全ての第一世代のdfを連結してdf_allを作成\n",
        "  for code in first_generations:\n",
        "    df_target = df_dict[code]\n",
        "      #重複の削除等\n",
        "    target_index = df_target.loc[['']].index\n",
        "    df_target = df_target.drop(target_index).sort_index().drop_duplicates()\n",
        "    df_target = df_target.append(pd.Series(name=''))\n",
        "    df_all = pd.concat((df_all, df_target), axis=0)\n",
        "\n",
        "  path = '/content/drive/MyDrive/乳牛データ/all_blood_tree_without_duplication.xlsx'\n",
        "\n",
        "  with pd.ExcelWriter(path) as writer:\n",
        "    df_all[only_blood].to_excel(writer, sheet_name='系統樹(小)')\n",
        "    df_all[main_specifics].to_excel(writer, sheet_name='系統樹(メイン)')\n",
        "    df_all.to_excel(writer, sheet_name='系統樹(大)')\n",
        "    \n",
        "  return"
      ],
      "metadata": {
        "colab": {
          "base_uri": "https://localhost:8080/"
        },
        "id": "q5FKfdfOgS1a",
        "outputId": "aba3db25-a6df-4ee7-9ba1-129bc9849332"
      },
      "execution_count": null,
      "outputs": [
        {
          "output_type": "stream",
          "name": "stdout",
          "text": [
            "Drive already mounted at /content/drive; to attempt to forcibly remount, call drive.mount(\"/content/drive\", force_remount=True).\n"
          ]
        },
        {
          "output_type": "stream",
          "name": "stderr",
          "text": [
            "/usr/local/lib/python3.7/dist-packages/ipykernel_launcher.py:152: DeprecationWarning: The default dtype for empty Series will be 'object' instead of 'float64' in a future version. Specify a dtype explicitly to silence this warning.\n",
            "/usr/local/lib/python3.7/dist-packages/ipykernel_launcher.py:141: DeprecationWarning: The default dtype for empty Series will be 'object' instead of 'float64' in a future version. Specify a dtype explicitly to silence this warning.\n"
          ]
        }
      ]
    },
    {
      "cell_type": "code",
      "source": [
        "#大元のDataFrame\n",
        "df"
      ],
      "metadata": {
        "id": "kcouT_ms3cEW"
      },
      "execution_count": null,
      "outputs": []
    },
    {
      "cell_type": "code",
      "source": [
        "#大元のDataFrameの基本情報\n",
        "df.info()"
      ],
      "metadata": {
        "id": "BNdx6MVnAgsT"
      },
      "execution_count": null,
      "outputs": []
    },
    {
      "cell_type": "code",
      "source": [
        "#第一世代の全てのIDのリスト\n",
        "first_generations"
      ],
      "metadata": {
        "id": "jHvcHdZH0K60"
      },
      "execution_count": null,
      "outputs": []
    },
    {
      "cell_type": "code",
      "source": [
        "#第二世代以降の全てのIDのリスト\n",
        "offspring"
      ],
      "metadata": {
        "id": "tceOf5Uwz698"
      },
      "execution_count": null,
      "outputs": []
    },
    {
      "cell_type": "code",
      "source": [
        "#少なくとも一匹の娘を持つ牛のDataFrame\n",
        "df.dropna(subset=['娘1'])"
      ],
      "metadata": {
        "id": "AZ2R8v0B7MKE"
      },
      "execution_count": null,
      "outputs": []
    },
    {
      "cell_type": "code",
      "source": [
        "# 血統樹の樹形図を一本ずつベクトルにバラしたものを集めたリスト（ベクトルのリスト）\n",
        "main_list_2"
      ],
      "metadata": {
        "id": "pXMnkt4YLLF6"
      },
      "execution_count": null,
      "outputs": []
    },
    {
      "cell_type": "code",
      "source": [
        "# main_list_２の要素数　＝　全ての樹形図における「道」の本数の合計\n",
        "len(main_list_2)"
      ],
      "metadata": {
        "id": "nQyZRe7ZQnRb"
      },
      "execution_count": null,
      "outputs": []
    },
    {
      "cell_type": "code",
      "source": [
        "#　'1386116606'　の位置に任意の第一世代のIDを代入して実行すると樹形図をベクトルにばらしたものが表示される\n",
        "main_partial_list = [partial for partial in main_list_2 if partial[0] == '1386116606']\n",
        "main_partial_list"
      ],
      "metadata": {
        "id": "5ozUktrgcogu"
      },
      "execution_count": null,
      "outputs": []
    },
    {
      "cell_type": "code",
      "source": [
        "#　'1386116606'　の位置に任意のIDを代入して実行するとそのIDにとっての第一世代の牛のIDが表示される\n",
        "code_confering_dict['1386116606']"
      ],
      "metadata": {
        "id": "8NnK_47P97KM"
      },
      "execution_count": null,
      "outputs": []
    },
    {
      "cell_type": "markdown",
      "source": [
        "### **下の四つの関数をお好みで実行してください。IDの参照には上のコードを適宜利用してください**\n",
        "\n",
        "*   code_to_excel()\n",
        " 選択したIDの第一世代のDataFrameからxlsxファイルを作成する関数\n",
        "*   \n",
        "code_to_excel()選択したIDの第一世代のDataFrameからxlsxファイルを作成する関数 (重複なしバージョン)\n",
        "*   all_to_excel_without_dupliication() 全ての第一世代のDataFrameからxlsxファイルを作成する関数 \n",
        "*   all_to_excel_without_dupliication() 全ての第一世代のDataFrameからxlsxファイルを作成する関数  (重複なしバージョン)\n",
        "\n"
      ],
      "metadata": {
        "id": "wWcZMHQDhMVR"
      }
    },
    {
      "cell_type": "code",
      "source": [
        "#選択したIDの第一世代のDataFrameからxlsxファイルを作成する関数。　1386116606の位置に任意のIDを代入してください\n",
        "code_to_excel(1386116606)"
      ],
      "metadata": {
        "id": "eY5iqJ8SMpid"
      },
      "execution_count": null,
      "outputs": []
    },
    {
      "cell_type": "code",
      "source": [
        "#選択したIDの第一世代のDataFrameからxlsxファイルを作成する関数  (重複なしバージョン)。　1386116606の位置に任意のIDを代入してください\n",
        "code_to_excel_without_duplication(1386116606)"
      ],
      "metadata": {
        "colab": {
          "base_uri": "https://localhost:8080/"
        },
        "id": "Uod1ImL-fPmS",
        "outputId": "27876633-c3e3-4e58-964a-93aecca23086"
      },
      "execution_count": null,
      "outputs": [
        {
          "output_type": "stream",
          "name": "stderr",
          "text": [
            "/usr/local/lib/python3.7/dist-packages/ipykernel_launcher.py:241: DeprecationWarning: The default dtype for empty Series will be 'object' instead of 'float64' in a future version. Specify a dtype explicitly to silence this warning.\n"
          ]
        }
      ]
    },
    {
      "cell_type": "code",
      "source": [
        "#全ての第一世代のDataFrameからxlsxファイルを作成する関数\n",
        "all_to_excel()"
      ],
      "metadata": {
        "id": "UgQuzgxxYiJM"
      },
      "execution_count": null,
      "outputs": []
    },
    {
      "cell_type": "code",
      "source": [
        "#全ての第一世代のDataFrameからxlsxファイルを作成する関数  (重複なしバージョン)\n",
        "all_to_excel_without_duplication()"
      ],
      "metadata": {
        "id": "QfGBh3gBYoDy",
        "colab": {
          "base_uri": "https://localhost:8080/"
        },
        "outputId": "8c9cc79f-598f-442f-c396-dc4c8d818743"
      },
      "execution_count": null,
      "outputs": [
        {
          "output_type": "stream",
          "name": "stderr",
          "text": [
            "/usr/local/lib/python3.7/dist-packages/ipykernel_launcher.py:271: DeprecationWarning: The default dtype for empty Series will be 'object' instead of 'float64' in a future version. Specify a dtype explicitly to silence this warning.\n"
          ]
        }
      ]
    }
  ]
}